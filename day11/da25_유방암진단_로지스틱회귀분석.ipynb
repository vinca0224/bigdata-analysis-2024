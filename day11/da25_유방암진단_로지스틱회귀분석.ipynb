{
 "cells": [
  {
   "cell_type": "markdown",
   "metadata": {},
   "source": [
    "## 머신러닝 실습\n",
    "\n",
    "### 로지스틱 회귀\n",
    "\n",
    "#### 개념이해\n",
    "\n",
    "##### 로지스틱 회귀\n",
    "- 선형회귀로 구할 수 없는 분류를 사용하는 기법\n",
    "- S자 함수가 사용(참 또는 거짓) 분류\n",
    "\n",
    "<img src=\"https://github.com/vinca0224/bigdata-analysis-2024/blob/main/day11/ba017.jpg\" width= \"600\">\n",
    "\n",
    "##### 시그모이드(Sigmoid : S자형) 함수\n",
    "$$\n",
    "y = \\frac{1}{1 + e^{ax + b}}\n",
    "$$\n",
    "\n",
    "##### 로지스틱 회귀모델의 성능평가지표\n",
    "- 선형회귀 : MSE(평균제곱오류), RMSE(평균제곱의제곱근오류), R^2 score(분산비율)\n",
    "- 로지스틱회귀 : 오차행렬에 기반한 정밀도, 재현율, F1스코어, ROC_AUC스코어\n",
    "\n",
    "##### 오차행렬\n",
    "\n",
    "<img src=\"https://github.com/vinca0224/bigdata-analysis-2024/blob/main/day11/ba018.png\" width= \"600\">\n",
    "\n",
    "- 정확도 : 정확하게 예측한 TN, TP를 전체 데이터로 나눈 값, accuracy_score , 오차행렬은 confusion_matrix 함수 사용\n",
    "\n",
    "    $$정확도= \\frac {예측결과와 실제값이 동일한 건수}{전체 데이터 수} = \\frac {TN+TP}{(TN+FP+FN+TP)}$$\n",
    "\n",
    "- 정밀도 : 예측이 positive 값에서 참인 것(TP)의 비율, precsion_score 함수\n",
    "\n",
    "    $$정밀도= \\frac{TP}{TP+NP}$$\n",
    "\n",
    "- 재현율 : 실제 값이 positive인 것중 참인 것(TP)의 비율, recall_score 함수 사용\n",
    "\n",
    "    $$재현율= \\frac{TP}{TP+FN}$$\n",
    "\n",
    "- F1 스코어 : 정밀도와 재현율을 결합한 평가지표, f1_score 함수 사용\n",
    "\n",
    "    $$F1스코어=\\frac {2} {\\frac{1}{재현율} + \\frac{1}{정밀도}} = 2 * \\frac {정밀도 * 재현율}{정밀도 + 재현율}$$\n",
    "\n",
    "- ROC(수신자 운영 곡선)기반 AUC(곡선 아래 영역) 스코어 : FPR(실제 negative인 데이터를 p로 거짓을 예측한 비율), TPR(실제 P인 데이터를 참으로 예측한 비율), roc_auc_score 함수 제공\n",
    "\n",
    "    $$FPR = \\frac {FP} {FP + TN}$$"
   ]
  },
  {
   "cell_type": "markdown",
   "metadata": {},
   "source": [
    "### 유방암진단 로지스틱 회귀분석\n",
    "\n",
    "#### 데이터 수집\n",
    "\n",
    "##### Scikit-Learn 내장 데이터"
   ]
  },
  {
   "cell_type": "code",
   "execution_count": null,
   "metadata": {},
   "outputs": [],
   "source": []
  }
 ],
 "metadata": {
  "kernelspec": {
   "display_name": "Python 3",
   "language": "python",
   "name": "python3"
  },
  "language_info": {
   "name": "python",
   "version": "3.12.2"
  }
 },
 "nbformat": 4,
 "nbformat_minor": 2
}
