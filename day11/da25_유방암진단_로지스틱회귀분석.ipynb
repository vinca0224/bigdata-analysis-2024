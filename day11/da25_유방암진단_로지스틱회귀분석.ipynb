{
 "cells": [
  {
   "cell_type": "markdown",
   "metadata": {},
   "source": [
    "## 머신러닝 실습\n",
    "\n",
    "### 로지스틱 회귀\n",
    "\n",
    "#### 개념이해\n",
    "\n",
    "##### 로지스틱 회귀\n",
    "- 선형회귀로 구할 수 없는 분류를 사용하는 기법\n",
    "- S자 함수가 사용(참 또는 거짓) 분류\n",
    "\n",
    "    "
   ]
  },
  {
   "cell_type": "markdown",
   "metadata": {},
   "source": [
    "### 유방암진단 로지스틱 회귀분석\n",
    "\n",
    "#### 데이터 수집\n",
    "\n",
    "##### Scikit-Learn 내장 데이터"
   ]
  }
 ],
 "metadata": {
  "kernelspec": {
   "display_name": "Python 3",
   "language": "python",
   "name": "python3"
  },
  "language_info": {
   "name": "python",
   "version": "3.12.2"
  }
 },
 "nbformat": 4,
 "nbformat_minor": 2
}
